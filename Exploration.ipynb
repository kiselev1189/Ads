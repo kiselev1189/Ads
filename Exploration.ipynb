{
 "cells": [
  {
   "cell_type": "code",
   "execution_count": 45,
   "metadata": {},
   "outputs": [],
   "source": [
    "import pandas as pd\n",
    "import seaborn as sns\n",
    "from tqdm import tqdm\n",
    "import numpy as np\n",
    "import matplotlib.pyplot as plt\n"
   ]
  },
  {
   "cell_type": "code",
   "execution_count": 46,
   "metadata": {},
   "outputs": [],
   "source": [
    "basepath = \"/mnt/fast/ads/data/\""
   ]
  },
  {
   "cell_type": "code",
   "execution_count": 47,
   "metadata": {},
   "outputs": [],
   "source": [
    "clicks = pd.read_csv(basepath + \"clicks.csv\", sep=\";\")\n",
    "platforms = pd.read_csv(basepath + \"platforms.csv\", sep=\";\")\n",
    "shows = pd.read_csv(basepath + \"shows.csv\", sep=\";\", encoding=\"cp1251\")"
   ]
  },
  {
   "cell_type": "code",
   "execution_count": 48,
   "metadata": {},
   "outputs": [
    {
     "data": {
      "text/html": [
       "<div>\n",
       "<style>\n",
       "    .dataframe thead tr:only-child th {\n",
       "        text-align: right;\n",
       "    }\n",
       "\n",
       "    .dataframe thead th {\n",
       "        text-align: left;\n",
       "    }\n",
       "\n",
       "    .dataframe tbody tr th {\n",
       "        vertical-align: top;\n",
       "    }\n",
       "</style>\n",
       "<table border=\"1\" class=\"dataframe\">\n",
       "  <thead>\n",
       "    <tr style=\"text-align: right;\">\n",
       "      <th></th>\n",
       "      <th>id</th>\n",
       "      <th>at</th>\n",
       "      <th>ip</th>\n",
       "      <th>platform_id</th>\n",
       "      <th>campaign_id</th>\n",
       "      <th>teaser_id</th>\n",
       "      <th>city_id</th>\n",
       "      <th>country_code</th>\n",
       "      <th>uid</th>\n",
       "      <th>headers</th>\n",
       "      <th>Unnamed: 10</th>\n",
       "    </tr>\n",
       "  </thead>\n",
       "  <tbody>\n",
       "    <tr>\n",
       "      <th>0</th>\n",
       "      <td>4622019</td>\n",
       "      <td>2017-08-30 13:16:58</td>\n",
       "      <td>83.220.239.97</td>\n",
       "      <td>267</td>\n",
       "      <td>491</td>\n",
       "      <td>25412</td>\n",
       "      <td>9</td>\n",
       "      <td>RU</td>\n",
       "      <td>19a627b51405b6c32294310526d32612</td>\n",
       "      <td>{\"accept-language\":\"ru-RU,ru;q=0.8,en-US;q=0.6...</td>\n",
       "      <td>NaN</td>\n",
       "    </tr>\n",
       "    <tr>\n",
       "      <th>1</th>\n",
       "      <td>4698697</td>\n",
       "      <td>2017-09-06 10:45:51</td>\n",
       "      <td>83.220.236.148</td>\n",
       "      <td>267</td>\n",
       "      <td>491</td>\n",
       "      <td>25412</td>\n",
       "      <td>9</td>\n",
       "      <td>RU</td>\n",
       "      <td>19a627b51405b6c32294310526d32612</td>\n",
       "      <td>{\"accept-language\":\"ru-RU,ru;q=0.8,en-US;q=0.6...</td>\n",
       "      <td>NaN</td>\n",
       "    </tr>\n",
       "  </tbody>\n",
       "</table>\n",
       "</div>"
      ],
      "text/plain": [
       "        id                   at              ip  platform_id  campaign_id  \\\n",
       "0  4622019  2017-08-30 13:16:58   83.220.239.97          267          491   \n",
       "1  4698697  2017-09-06 10:45:51  83.220.236.148          267          491   \n",
       "\n",
       "   teaser_id  city_id country_code                               uid  \\\n",
       "0      25412        9           RU  19a627b51405b6c32294310526d32612   \n",
       "1      25412        9           RU  19a627b51405b6c32294310526d32612   \n",
       "\n",
       "                                             headers  Unnamed: 10  \n",
       "0  {\"accept-language\":\"ru-RU,ru;q=0.8,en-US;q=0.6...          NaN  \n",
       "1  {\"accept-language\":\"ru-RU,ru;q=0.8,en-US;q=0.6...          NaN  "
      ]
     },
     "execution_count": 48,
     "metadata": {},
     "output_type": "execute_result"
    }
   ],
   "source": [
    "clicks.head(2)"
   ]
  },
  {
   "cell_type": "code",
   "execution_count": 49,
   "metadata": {},
   "outputs": [
    {
     "data": {
      "text/html": [
       "<div>\n",
       "<style>\n",
       "    .dataframe thead tr:only-child th {\n",
       "        text-align: right;\n",
       "    }\n",
       "\n",
       "    .dataframe thead th {\n",
       "        text-align: left;\n",
       "    }\n",
       "\n",
       "    .dataframe tbody tr th {\n",
       "        vertical-align: top;\n",
       "    }\n",
       "</style>\n",
       "<table border=\"1\" class=\"dataframe\">\n",
       "  <thead>\n",
       "    <tr style=\"text-align: right;\">\n",
       "      <th></th>\n",
       "      <th>platform_id</th>\n",
       "      <th>server</th>\n",
       "      <th>tag_name</th>\n",
       "    </tr>\n",
       "  </thead>\n",
       "  <tbody>\n",
       "    <tr>\n",
       "      <th>0</th>\n",
       "      <td>1004</td>\n",
       "      <td>justlady.ru</td>\n",
       "      <td>Общая</td>\n",
       "    </tr>\n",
       "    <tr>\n",
       "      <th>1</th>\n",
       "      <td>1004</td>\n",
       "      <td>justlady.ru</td>\n",
       "      <td>Медицина, здоровье</td>\n",
       "    </tr>\n",
       "  </tbody>\n",
       "</table>\n",
       "</div>"
      ],
      "text/plain": [
       "   platform_id       server            tag_name\n",
       "0         1004  justlady.ru               Общая\n",
       "1         1004  justlady.ru  Медицина, здоровье"
      ]
     },
     "execution_count": 49,
     "metadata": {},
     "output_type": "execute_result"
    }
   ],
   "source": [
    "platforms.head(2)"
   ]
  },
  {
   "cell_type": "code",
   "execution_count": 50,
   "metadata": {},
   "outputs": [
    {
     "data": {
      "text/html": [
       "<div>\n",
       "<style>\n",
       "    .dataframe thead tr:only-child th {\n",
       "        text-align: right;\n",
       "    }\n",
       "\n",
       "    .dataframe thead th {\n",
       "        text-align: left;\n",
       "    }\n",
       "\n",
       "    .dataframe tbody tr th {\n",
       "        vertical-align: top;\n",
       "    }\n",
       "</style>\n",
       "<table border=\"1\" class=\"dataframe\">\n",
       "  <thead>\n",
       "    <tr style=\"text-align: right;\">\n",
       "      <th></th>\n",
       "      <th>id</th>\n",
       "      <th>at</th>\n",
       "      <th>ip</th>\n",
       "      <th>platform_id</th>\n",
       "      <th>teaser_id</th>\n",
       "      <th>city_id</th>\n",
       "      <th>country_code</th>\n",
       "      <th>uid</th>\n",
       "      <th>referer</th>\n",
       "      <th>campaign_id</th>\n",
       "    </tr>\n",
       "  </thead>\n",
       "  <tbody>\n",
       "    <tr>\n",
       "      <th>0</th>\n",
       "      <td>166018810</td>\n",
       "      <td>2017-08-23 05:02:28</td>\n",
       "      <td>109.238.80.40</td>\n",
       "      <td>267</td>\n",
       "      <td>25412</td>\n",
       "      <td>31</td>\n",
       "      <td>RU</td>\n",
       "      <td>lHr29eJ1178jc7wEqdAR1</td>\n",
       "      <td>http://xn----ctbheahl3bddk6as1a9fb.xn--p1ai/%D...</td>\n",
       "      <td>491</td>\n",
       "    </tr>\n",
       "    <tr>\n",
       "      <th>1</th>\n",
       "      <td>166025934</td>\n",
       "      <td>2017-08-23 05:27:03</td>\n",
       "      <td>62.249.150.138</td>\n",
       "      <td>267</td>\n",
       "      <td>25412</td>\n",
       "      <td>33</td>\n",
       "      <td>RU</td>\n",
       "      <td>71122276b8582ef27b0b548fb51ca1c2</td>\n",
       "      <td>http://xn----ctbheahl3bddk6as1a9fb.xn--p1ai/%D...</td>\n",
       "      <td>491</td>\n",
       "    </tr>\n",
       "  </tbody>\n",
       "</table>\n",
       "</div>"
      ],
      "text/plain": [
       "          id                   at              ip  platform_id  teaser_id  \\\n",
       "0  166018810  2017-08-23 05:02:28   109.238.80.40          267      25412   \n",
       "1  166025934  2017-08-23 05:27:03  62.249.150.138          267      25412   \n",
       "\n",
       "   city_id country_code                               uid  \\\n",
       "0       31           RU             lHr29eJ1178jc7wEqdAR1   \n",
       "1       33           RU  71122276b8582ef27b0b548fb51ca1c2   \n",
       "\n",
       "                                             referer  campaign_id  \n",
       "0  http://xn----ctbheahl3bddk6as1a9fb.xn--p1ai/%D...          491  \n",
       "1  http://xn----ctbheahl3bddk6as1a9fb.xn--p1ai/%D...          491  "
      ]
     },
     "execution_count": 50,
     "metadata": {},
     "output_type": "execute_result"
    }
   ],
   "source": [
    "shows.head(2)"
   ]
  },
  {
   "cell_type": "markdown",
   "metadata": {},
   "source": [
    "Ищем подозрительных пользователей по числу показов на uid"
   ]
  },
  {
   "cell_type": "code",
   "execution_count": 51,
   "metadata": {},
   "outputs": [
    {
     "data": {
      "image/png": "[encoded data removed]",
      "text/plain": [
       "<matplotlib.figure.Figure at 0x7f9872c32240>"
      ]
     },
     "metadata": {},
     "output_type": "display_data"
    }
   ],
   "source": [
    "sns.distplot(shows[\"uid\"].value_counts().values, kde=False)\n",
    "plt.show()"
   ]
  },
  {
   "cell_type": "markdown",
   "metadata": {},
   "source": [
    "Скорее всего, пользователи с более чем 200 показов - боты, надо их отфильтровать"
   ]
  },
  {
   "cell_type": "code",
   "execution_count": 52,
   "metadata": {},
   "outputs": [],
   "source": [
    "suspicious_uids = shows[\"uid\"].value_counts()\n",
    "suspicious_uids = suspicious_uids[suspicious_uids > 200]\n",
    "suspicious_uids = set(suspicious_uids.index)"
   ]
  },
  {
   "cell_type": "code",
   "execution_count": 53,
   "metadata": {},
   "outputs": [],
   "source": [
    "shows = shows[~shows[\"uid\"].isin(suspicious_uids)]\n",
    "clicks = clicks[~clicks[\"uid\"].isin(suspicious_uids)]"
   ]
  },
  {
   "cell_type": "code",
   "execution_count": 54,
   "metadata": {},
   "outputs": [
    {
     "data": {
      "text/html": [
       "<div>\n",
       "<style>\n",
       "    .dataframe thead tr:only-child th {\n",
       "        text-align: right;\n",
       "    }\n",
       "\n",
       "    .dataframe thead th {\n",
       "        text-align: left;\n",
       "    }\n",
       "\n",
       "    .dataframe tbody tr th {\n",
       "        vertical-align: top;\n",
       "    }\n",
       "</style>\n",
       "<table border=\"1\" class=\"dataframe\">\n",
       "  <thead>\n",
       "    <tr style=\"text-align: right;\">\n",
       "      <th></th>\n",
       "      <th>id</th>\n",
       "      <th>at</th>\n",
       "      <th>ip</th>\n",
       "      <th>platform_id</th>\n",
       "      <th>teaser_id</th>\n",
       "      <th>city_id</th>\n",
       "      <th>country_code</th>\n",
       "      <th>uid</th>\n",
       "      <th>referer</th>\n",
       "      <th>campaign_id</th>\n",
       "    </tr>\n",
       "  </thead>\n",
       "  <tbody>\n",
       "    <tr>\n",
       "      <th>0</th>\n",
       "      <td>166018810</td>\n",
       "      <td>2017-08-23 05:02:28</td>\n",
       "      <td>109.238.80.40</td>\n",
       "      <td>267</td>\n",
       "      <td>25412</td>\n",
       "      <td>31</td>\n",
       "      <td>RU</td>\n",
       "      <td>lHr29eJ1178jc7wEqdAR1</td>\n",
       "      <td>http://xn----ctbheahl3bddk6as1a9fb.xn--p1ai/%D...</td>\n",
       "      <td>491</td>\n",
       "    </tr>\n",
       "    <tr>\n",
       "      <th>1</th>\n",
       "      <td>166025934</td>\n",
       "      <td>2017-08-23 05:27:03</td>\n",
       "      <td>62.249.150.138</td>\n",
       "      <td>267</td>\n",
       "      <td>25412</td>\n",
       "      <td>33</td>\n",
       "      <td>RU</td>\n",
       "      <td>71122276b8582ef27b0b548fb51ca1c2</td>\n",
       "      <td>http://xn----ctbheahl3bddk6as1a9fb.xn--p1ai/%D...</td>\n",
       "      <td>491</td>\n",
       "    </tr>\n",
       "    <tr>\n",
       "      <th>2</th>\n",
       "      <td>166035103</td>\n",
       "      <td>2017-08-23 05:57:38</td>\n",
       "      <td>213.87.249.1</td>\n",
       "      <td>267</td>\n",
       "      <td>25412</td>\n",
       "      <td>9</td>\n",
       "      <td>RU</td>\n",
       "      <td>lUd1ubPcLSZH87haig2</td>\n",
       "      <td>http://xn----ctbheahl3bddk6as1a9fb.xn--p1ai/%D...</td>\n",
       "      <td>491</td>\n",
       "    </tr>\n",
       "    <tr>\n",
       "      <th>3</th>\n",
       "      <td>166036146</td>\n",
       "      <td>2017-08-23 06:00:20</td>\n",
       "      <td>178.161.234.0</td>\n",
       "      <td>267</td>\n",
       "      <td>25412</td>\n",
       "      <td>23</td>\n",
       "      <td>RU</td>\n",
       "      <td>lUd21aQ1GcjYQ7Rhiba2</td>\n",
       "      <td>http://xn----ctbheahl3bddk6as1a9fb.xn--p1ai/%D...</td>\n",
       "      <td>491</td>\n",
       "    </tr>\n",
       "    <tr>\n",
       "      <th>4</th>\n",
       "      <td>166039286</td>\n",
       "      <td>2017-08-23 06:08:41</td>\n",
       "      <td>176.100.157.115</td>\n",
       "      <td>267</td>\n",
       "      <td>25412</td>\n",
       "      <td>25</td>\n",
       "      <td>RU</td>\n",
       "      <td>lRZ7S8p6217jlC1SiP</td>\n",
       "      <td>http://xn----ctbheahl3bddk6as1a9fb.xn--p1ai/me...</td>\n",
       "      <td>491</td>\n",
       "    </tr>\n",
       "  </tbody>\n",
       "</table>\n",
       "</div>"
      ],
      "text/plain": [
       "          id                   at               ip  platform_id  teaser_id  \\\n",
       "0  166018810  2017-08-23 05:02:28    109.238.80.40          267      25412   \n",
       "1  166025934  2017-08-23 05:27:03   62.249.150.138          267      25412   \n",
       "2  166035103  2017-08-23 05:57:38     213.87.249.1          267      25412   \n",
       "3  166036146  2017-08-23 06:00:20    178.161.234.0          267      25412   \n",
       "4  166039286  2017-08-23 06:08:41  176.100.157.115          267      25412   \n",
       "\n",
       "   city_id country_code                               uid  \\\n",
       "0       31           RU             lHr29eJ1178jc7wEqdAR1   \n",
       "1       33           RU  71122276b8582ef27b0b548fb51ca1c2   \n",
       "2        9           RU               lUd1ubPcLSZH87haig2   \n",
       "3       23           RU              lUd21aQ1GcjYQ7Rhiba2   \n",
       "4       25           RU                lRZ7S8p6217jlC1SiP   \n",
       "\n",
       "                                             referer  campaign_id  \n",
       "0  http://xn----ctbheahl3bddk6as1a9fb.xn--p1ai/%D...          491  \n",
       "1  http://xn----ctbheahl3bddk6as1a9fb.xn--p1ai/%D...          491  \n",
       "2  http://xn----ctbheahl3bddk6as1a9fb.xn--p1ai/%D...          491  \n",
       "3  http://xn----ctbheahl3bddk6as1a9fb.xn--p1ai/%D...          491  \n",
       "4  http://xn----ctbheahl3bddk6as1a9fb.xn--p1ai/me...          491  "
      ]
     },
     "execution_count": 54,
     "metadata": {},
     "output_type": "execute_result"
    }
   ],
   "source": [
    "shows.head()"
   ]
  },
  {
   "cell_type": "markdown",
   "metadata": {},
   "source": [
    "**Дескриптивные статистики**"
   ]
  },
  {
   "cell_type": "markdown",
   "metadata": {},
   "source": [
    "Наивно считаем ctr по парам платформа-тизер как число кликов по этой паре деленное на число показов"
   ]
  },
  {
   "cell_type": "code",
   "execution_count": 55,
   "metadata": {},
   "outputs": [],
   "source": [
    "grouped_shows = shows.groupby([\"platform_id\", \"teaser_id\"])"
   ]
  },
  {
   "cell_type": "code",
   "execution_count": 56,
   "metadata": {},
   "outputs": [
    {
     "data": {
      "text/plain": [
       "36818"
      ]
     },
     "execution_count": 56,
     "metadata": {},
     "output_type": "execute_result"
    }
   ],
   "source": [
    "len(grouped_shows)"
   ]
  },
  {
   "cell_type": "code",
   "execution_count": 57,
   "metadata": {},
   "outputs": [],
   "source": [
    "clicks = clicks.set_index([\"platform_id\", \"teaser_id\"]).sort_index()"
   ]
  },
  {
   "cell_type": "code",
   "execution_count": 58,
   "metadata": {
    "scrolled": true
   },
   "outputs": [
    {
     "name": "stdout",
     "output_type": "stream",
     "text": [
      "1000\n",
      "2000\n",
      "3000\n",
      "4000\n",
      "5000\n",
      "6000\n",
      "7000\n",
      "8000\n",
      "9000\n",
      "10000\n",
      "11000\n",
      "12000\n",
      "13000\n",
      "14000\n",
      "15000\n",
      "16000\n",
      "17000\n",
      "18000\n",
      "19000\n",
      "20000\n",
      "21000\n",
      "22000\n",
      "23000\n",
      "24000\n",
      "25000\n",
      "26000\n",
      "27000\n",
      "28000\n",
      "29000\n",
      "30000\n",
      "31000\n",
      "32000\n",
      "33000\n",
      "34000\n",
      "35000\n",
      "36000\n"
     ]
    }
   ],
   "source": [
    "platform_teaser_ctr = []\n",
    "\n",
    "i = 0 #tqdm doesnt work for some reason\n",
    "for pl_t, group in grouped_shows:\n",
    "    row = {\"platform_id\": pl_t[0], \"teaser_id\": pl_t[1]}\n",
    "    try:\n",
    "        click_count = len(clicks.loc[pl_t])\n",
    "    except:\n",
    "        click_count = 0\n",
    "    row[\"clicks\"] =  click_count\n",
    "    row[\"shows\"] = len(group)\n",
    "    row[\"ctr\"] = row[\"clicks\"] / row[\"shows\"]\n",
    "    platform_teaser_ctr.append(row)\n",
    "    \n",
    "    i += 1\n",
    "    if i % 1000 == 0:\n",
    "        print(i)\n",
    "        \n",
    "platform_teaser_ctr = pd.DataFrame(platform_teaser_ctr)"
   ]
  },
  {
   "cell_type": "markdown",
   "metadata": {},
   "source": [
    "Удаляем пары с малым числом показов"
   ]
  },
  {
   "cell_type": "code",
   "execution_count": 64,
   "metadata": {},
   "outputs": [],
   "source": [
    "platform_teaser_ctr = platform_teaser_ctr[platform_teaser_ctr[\"shows\"] > 100]"
   ]
  },
  {
   "cell_type": "markdown",
   "metadata": {},
   "source": [
    "Распределение показов:"
   ]
  },
  {
   "cell_type": "code",
   "execution_count": 65,
   "metadata": {},
   "outputs": [
    {
     "data": {
      "image/png": "[encoded data removed]",
      "text/plain": [
       "<matplotlib.figure.Figure at 0x7f988eb86f98>"
      ]
     },
     "metadata": {},
     "output_type": "display_data"
    }
   ],
   "source": [
    "sns.distplot(platform_teaser_ctr[\"shows\"], kde=False)\n",
    "plt.show()"
   ]
  },
  {
   "cell_type": "markdown",
   "metadata": {},
   "source": [
    "Удалим пары с малым числом просмотров "
   ]
  },
  {
   "cell_type": "code",
   "execution_count": 66,
   "metadata": {},
   "outputs": [
    {
     "data": {
      "image/png": "[encoded data removed]",
      "text/plain": [
       "<matplotlib.figure.Figure at 0x7f990a1752b0>"
      ]
     },
     "metadata": {},
     "output_type": "display_data"
    }
   ],
   "source": [
    "sns.distplot(np.log(platform_teaser_ctr[platform_teaser_ctr[\"shows\"] > 1000][\"shows\"]), kde=False)\n",
    "plt.show()"
   ]
  },
  {
   "cell_type": "code",
   "execution_count": 67,
   "metadata": {},
   "outputs": [
    {
     "data": {
      "image/png": "[encoded data removed]",
      "text/plain": [
       "<matplotlib.figure.Figure at 0x7f988ab02f28>"
      ]
     },
     "metadata": {},
     "output_type": "display_data"
    }
   ],
   "source": [
    "sns.distplot(platform_teaser_ctr[platform_teaser_ctr[\"shows\"] > 1000][\"shows\"], kde=False)\n",
    "plt.show()"
   ]
  },
  {
   "cell_type": "markdown",
   "metadata": {},
   "source": [
    "Распределение ctr"
   ]
  },
  {
   "cell_type": "code",
   "execution_count": 78,
   "metadata": {},
   "outputs": [
    {
     "data": {
      "image/png": "[encoded data removed]",
      "text/plain": [
       "<matplotlib.figure.Figure at 0x7f98a458c748>"
      ]
     },
     "metadata": {},
     "output_type": "display_data"
    },
    {
     "data": {
      "image/png": "[encoded data removed]",
      "text/plain": [
       "<matplotlib.figure.Figure at 0x7f991c884898>"
      ]
     },
     "metadata": {},
     "output_type": "display_data"
    }
   ],
   "source": [
    "import matplotlib.pyplot as plt\n",
    "sns.distplot(platform_teaser_ctr[platform_teaser_ctr[\"ctr\"] != 0][\"ctr\"], kde=False)\n",
    "plt.show()\n",
    "\n",
    "sns.distplot(platform_teaser_ctr[platform_teaser_ctr[\"ctr\"] != 0][\"ctr\"], kde=False)\n",
    "plt.show()"
   ]
  },
  {
   "cell_type": "markdown",
   "metadata": {},
   "source": [
    "Собираем \"чистый\" датасет  "
   ]
  },
  {
   "cell_type": "code",
   "execution_count": 79,
   "metadata": {},
   "outputs": [],
   "source": [
    "teasers = pd.read_csv(basepath + \"teasers.csv\", sep=\";\")"
   ]
  },
  {
   "cell_type": "code",
   "execution_count": 80,
   "metadata": {},
   "outputs": [
    {
     "data": {
      "text/html": [
       "<div>\n",
       "<style>\n",
       "    .dataframe thead tr:only-child th {\n",
       "        text-align: right;\n",
       "    }\n",
       "\n",
       "    .dataframe thead th {\n",
       "        text-align: left;\n",
       "    }\n",
       "\n",
       "    .dataframe tbody tr th {\n",
       "        vertical-align: top;\n",
       "    }\n",
       "</style>\n",
       "<table border=\"1\" class=\"dataframe\">\n",
       "  <thead>\n",
       "    <tr style=\"text-align: right;\">\n",
       "      <th></th>\n",
       "      <th>campaign_id</th>\n",
       "      <th>teaser_id</th>\n",
       "      <th>url</th>\n",
       "      <th>title</th>\n",
       "      <th>description</th>\n",
       "      <th>image</th>\n",
       "      <th>is_native</th>\n",
       "      <th>is_video</th>\n",
       "      <th>video</th>\n",
       "      <th>creative</th>\n",
       "      <th>button_text</th>\n",
       "      <th>keywords</th>\n",
       "    </tr>\n",
       "  </thead>\n",
       "  <tbody>\n",
       "    <tr>\n",
       "      <th>0</th>\n",
       "      <td>491</td>\n",
       "      <td>25412</td>\n",
       "      <td>http://enterosgel.info/enterosgel-pri-poxudenii/</td>\n",
       "      <td>Энтеросгель – единственный в мире гель от отра...</td>\n",
       "      <td>Узнай подробнее на официальном сайте!</td>\n",
       "      <td>//tt.ttarget.ru/i/t/t_58b56815802bc2.34001936.jpg</td>\n",
       "      <td>0</td>\n",
       "      <td>1</td>\n",
       "      <td>//tt.ttarget.ru/i/t/t_58b5681daec4c4.35091208.mp4</td>\n",
       "      <td>//tt.ttarget.ru/i/t/t_58ec95bf7daf11.29860103.jpg</td>\n",
       "      <td>NaN</td>\n",
       "      <td>NaN</td>\n",
       "    </tr>\n",
       "    <tr>\n",
       "      <th>1</th>\n",
       "      <td>491</td>\n",
       "      <td>25495</td>\n",
       "      <td>http://www.6-sotok.ru/</td>\n",
       "      <td>6 Соток - Вам понравится!</td>\n",
       "      <td>Свежие огурчики, приготовленные по рецептуре  ...</td>\n",
       "      <td>//tt.ttarget.ru/i/t/t_58e7417ed16f01.11935925.jpg</td>\n",
       "      <td>0</td>\n",
       "      <td>1</td>\n",
       "      <td>//tt.ttarget.ru/i/t/t_58e740e909fb14.40809357.mp4</td>\n",
       "      <td>//tt.ttarget.ru/i/t/t_58ec93f4151e96.13738439.jpg</td>\n",
       "      <td>NaN</td>\n",
       "      <td>NaN</td>\n",
       "    </tr>\n",
       "    <tr>\n",
       "      <th>2</th>\n",
       "      <td>491</td>\n",
       "      <td>25496</td>\n",
       "      <td>http://www.derinat.ru/usefull/sovety-spetsiali...</td>\n",
       "      <td>Деринат - против вирусов!</td>\n",
       "      <td>NaN</td>\n",
       "      <td>//tt.ttarget.ru/i/t/t_58eb42747a0b68.97336120.png</td>\n",
       "      <td>0</td>\n",
       "      <td>1</td>\n",
       "      <td>//tt.ttarget.ru/i/t/t_58eb423b5c1d24.55446644.mp4</td>\n",
       "      <td>//tt.ttarget.ru/i/t/t_58eb4832f264c7.96568569.jpg</td>\n",
       "      <td>NaN</td>\n",
       "      <td>NaN</td>\n",
       "    </tr>\n",
       "    <tr>\n",
       "      <th>3</th>\n",
       "      <td>491</td>\n",
       "      <td>25550</td>\n",
       "      <td>https://mense.ru/#kak_prinimat_mense</td>\n",
       "      <td>МЕНСЕ - негормональная поддержка в период мено...</td>\n",
       "      <td>NaN</td>\n",
       "      <td>//tt.ttarget.ru/i/t/t_58f86fdcc3f440.28198879.jpg</td>\n",
       "      <td>0</td>\n",
       "      <td>1</td>\n",
       "      <td>//tt.ttarget.ru/i/t/t_58f86fe429c6e4.13945075.mp4</td>\n",
       "      <td>//tt.ttarget.ru/i/t/t_58f86ff2e773c2.36797722.jpg</td>\n",
       "      <td>NaN</td>\n",
       "      <td>NaN</td>\n",
       "    </tr>\n",
       "    <tr>\n",
       "      <th>4</th>\n",
       "      <td>491</td>\n",
       "      <td>25611</td>\n",
       "      <td>http://www.grammidin.ru</td>\n",
       "      <td>Граммидин Нео - лечит больное горло</td>\n",
       "      <td>NaN</td>\n",
       "      <td>//tt.ttarget.ru/i/t/t_58fda64f4a1516.17412691.jpg</td>\n",
       "      <td>0</td>\n",
       "      <td>1</td>\n",
       "      <td>//tt.ttarget.ru/i/t/t_58fda6756a1f05.58910851.mp4</td>\n",
       "      <td>//tt.ttarget.ru/i/t/t_58fda669017ec3.75151782.jpg</td>\n",
       "      <td>NaN</td>\n",
       "      <td>NaN</td>\n",
       "    </tr>\n",
       "  </tbody>\n",
       "</table>\n",
       "</div>"
      ],
      "text/plain": [
       "   campaign_id  teaser_id                                                url  \\\n",
       "0          491      25412   http://enterosgel.info/enterosgel-pri-poxudenii/   \n",
       "1          491      25495                             http://www.6-sotok.ru/   \n",
       "2          491      25496  http://www.derinat.ru/usefull/sovety-spetsiali...   \n",
       "3          491      25550               https://mense.ru/#kak_prinimat_mense   \n",
       "4          491      25611                            http://www.grammidin.ru   \n",
       "\n",
       "                                               title  \\\n",
       "0  Энтеросгель – единственный в мире гель от отра...   \n",
       "1                          6 Соток - Вам понравится!   \n",
       "2                          Деринат - против вирусов!   \n",
       "3  МЕНСЕ - негормональная поддержка в период мено...   \n",
       "4                Граммидин Нео - лечит больное горло   \n",
       "\n",
       "                                         description  \\\n",
       "0              Узнай подробнее на официальном сайте!   \n",
       "1  Свежие огурчики, приготовленные по рецептуре  ...   \n",
       "2                                                NaN   \n",
       "3                                                NaN   \n",
       "4                                                NaN   \n",
       "\n",
       "                                               image  is_native  is_video  \\\n",
       "0  //tt.ttarget.ru/i/t/t_58b56815802bc2.34001936.jpg          0         1   \n",
       "1  //tt.ttarget.ru/i/t/t_58e7417ed16f01.11935925.jpg          0         1   \n",
       "2  //tt.ttarget.ru/i/t/t_58eb42747a0b68.97336120.png          0         1   \n",
       "3  //tt.ttarget.ru/i/t/t_58f86fdcc3f440.28198879.jpg          0         1   \n",
       "4  //tt.ttarget.ru/i/t/t_58fda64f4a1516.17412691.jpg          0         1   \n",
       "\n",
       "                                               video  \\\n",
       "0  //tt.ttarget.ru/i/t/t_58b5681daec4c4.35091208.mp4   \n",
       "1  //tt.ttarget.ru/i/t/t_58e740e909fb14.40809357.mp4   \n",
       "2  //tt.ttarget.ru/i/t/t_58eb423b5c1d24.55446644.mp4   \n",
       "3  //tt.ttarget.ru/i/t/t_58f86fe429c6e4.13945075.mp4   \n",
       "4  //tt.ttarget.ru/i/t/t_58fda6756a1f05.58910851.mp4   \n",
       "\n",
       "                                            creative button_text keywords  \n",
       "0  //tt.ttarget.ru/i/t/t_58ec95bf7daf11.29860103.jpg         NaN      NaN  \n",
       "1  //tt.ttarget.ru/i/t/t_58ec93f4151e96.13738439.jpg         NaN      NaN  \n",
       "2  //tt.ttarget.ru/i/t/t_58eb4832f264c7.96568569.jpg         NaN      NaN  \n",
       "3  //tt.ttarget.ru/i/t/t_58f86ff2e773c2.36797722.jpg         NaN      NaN  \n",
       "4  //tt.ttarget.ru/i/t/t_58fda669017ec3.75151782.jpg         NaN      NaN  "
      ]
     },
     "execution_count": 80,
     "metadata": {},
     "output_type": "execute_result"
    }
   ],
   "source": [
    "teasers.head()"
   ]
  },
  {
   "cell_type": "code",
   "execution_count": 88,
   "metadata": {},
   "outputs": [],
   "source": [
    "platforms_merged_tags = []\n",
    "for pl, group in platforms.groupby(\"platform_id\"):\n",
    "    platforms_merged_tags.append({\"tags\": \"@\".join(group[\"tag_name\"]),\\\n",
    "                                  \"platform_id\": pl,\\\n",
    "                                  \"server\": group[\"server\"].iloc[0]})\n",
    "platforms_merged_tags = pd.DataFrame(platforms_merged_tags)"
   ]
  },
  {
   "cell_type": "code",
   "execution_count": 89,
   "metadata": {},
   "outputs": [],
   "source": [
    "ctr = pd.merge(platform_teaser_ctr, teasers, left_on=\"teaser_id\", right_on=\"teaser_id\")\n",
    "ctr = pd.merge(ctr, platforms_merged_tags, left_on=\"platform_id\", right_on=\"platform_id\")"
   ]
  },
  {
   "cell_type": "code",
   "execution_count": 90,
   "metadata": {},
   "outputs": [
    {
     "data": {
      "text/html": [
       "<div>\n",
       "<style>\n",
       "    .dataframe thead tr:only-child th {\n",
       "        text-align: right;\n",
       "    }\n",
       "\n",
       "    .dataframe thead th {\n",
       "        text-align: left;\n",
       "    }\n",
       "\n",
       "    .dataframe tbody tr th {\n",
       "        vertical-align: top;\n",
       "    }\n",
       "</style>\n",
       "<table border=\"1\" class=\"dataframe\">\n",
       "  <thead>\n",
       "    <tr style=\"text-align: right;\">\n",
       "      <th></th>\n",
       "      <th>clicks</th>\n",
       "      <th>ctr</th>\n",
       "      <th>platform_id</th>\n",
       "      <th>shows</th>\n",
       "      <th>teaser_id</th>\n",
       "      <th>campaign_id</th>\n",
       "      <th>url</th>\n",
       "      <th>title</th>\n",
       "      <th>description</th>\n",
       "      <th>image</th>\n",
       "      <th>is_native</th>\n",
       "      <th>is_video</th>\n",
       "      <th>video</th>\n",
       "      <th>creative</th>\n",
       "      <th>button_text</th>\n",
       "      <th>keywords</th>\n",
       "      <th>server</th>\n",
       "      <th>tags</th>\n",
       "    </tr>\n",
       "  </thead>\n",
       "  <tbody>\n",
       "    <tr>\n",
       "      <th>0</th>\n",
       "      <td>0</td>\n",
       "      <td>0.0</td>\n",
       "      <td>53</td>\n",
       "      <td>1200</td>\n",
       "      <td>25640</td>\n",
       "      <td>516</td>\n",
       "      <td>http://www.heart-sos.ru/articles/56/</td>\n",
       "      <td>Почему болезни сердца «помолодели»?</td>\n",
       "      <td>Неутешительные новости здравоохранения...</td>\n",
       "      <td>//tt.ttarget.ru/i/t/t_58ff57359323b0.49043764.jpg</td>\n",
       "      <td>0</td>\n",
       "      <td>0</td>\n",
       "      <td>\\N</td>\n",
       "      <td>\\N</td>\n",
       "      <td>NaN</td>\n",
       "      <td>NaN</td>\n",
       "      <td>griboknogtey.ru</td>\n",
       "      <td>Общая@Новости@Медицина, здоровье@Только наши р...</td>\n",
       "    </tr>\n",
       "    <tr>\n",
       "      <th>1</th>\n",
       "      <td>0</td>\n",
       "      <td>0.0</td>\n",
       "      <td>53</td>\n",
       "      <td>644</td>\n",
       "      <td>25641</td>\n",
       "      <td>516</td>\n",
       "      <td>http://www.heart-sos.ru/articles/56/</td>\n",
       "      <td>Как снизить риск возникновения заболеваний сер...</td>\n",
       "      <td>Новости медицины...</td>\n",
       "      <td>//tt.ttarget.ru/i/t/t_58ff57b583c235.74650094.jpg</td>\n",
       "      <td>0</td>\n",
       "      <td>0</td>\n",
       "      <td>\\N</td>\n",
       "      <td>\\N</td>\n",
       "      <td>NaN</td>\n",
       "      <td>NaN</td>\n",
       "      <td>griboknogtey.ru</td>\n",
       "      <td>Общая@Новости@Медицина, здоровье@Только наши р...</td>\n",
       "    </tr>\n",
       "    <tr>\n",
       "      <th>2</th>\n",
       "      <td>0</td>\n",
       "      <td>0.0</td>\n",
       "      <td>53</td>\n",
       "      <td>670</td>\n",
       "      <td>25642</td>\n",
       "      <td>516</td>\n",
       "      <td>http://www.heart-sos.ru/articles/56/</td>\n",
       "      <td>Как сохранить здоровье сердца?</td>\n",
       "      <td>Основные факторы риска!</td>\n",
       "      <td>//tt.ttarget.ru/i/t/t_58ff57ff7649f5.47414731.jpg</td>\n",
       "      <td>0</td>\n",
       "      <td>0</td>\n",
       "      <td>\\N</td>\n",
       "      <td>\\N</td>\n",
       "      <td>NaN</td>\n",
       "      <td>NaN</td>\n",
       "      <td>griboknogtey.ru</td>\n",
       "      <td>Общая@Новости@Медицина, здоровье@Только наши р...</td>\n",
       "    </tr>\n",
       "    <tr>\n",
       "      <th>3</th>\n",
       "      <td>0</td>\n",
       "      <td>0.0</td>\n",
       "      <td>53</td>\n",
       "      <td>582</td>\n",
       "      <td>25643</td>\n",
       "      <td>516</td>\n",
       "      <td>http://www.heart-sos.ru/articles/56/</td>\n",
       "      <td>В чем причина возникновения риска сердечных за...</td>\n",
       "      <td>NaN</td>\n",
       "      <td>//tt.ttarget.ru/i/t/t_58ff5c28439fe3.04566075.jpg</td>\n",
       "      <td>0</td>\n",
       "      <td>0</td>\n",
       "      <td>\\N</td>\n",
       "      <td>\\N</td>\n",
       "      <td>NaN</td>\n",
       "      <td>NaN</td>\n",
       "      <td>griboknogtey.ru</td>\n",
       "      <td>Общая@Новости@Медицина, здоровье@Только наши р...</td>\n",
       "    </tr>\n",
       "    <tr>\n",
       "      <th>4</th>\n",
       "      <td>0</td>\n",
       "      <td>0.0</td>\n",
       "      <td>53</td>\n",
       "      <td>536</td>\n",
       "      <td>25644</td>\n",
       "      <td>516</td>\n",
       "      <td>http://www.heart-sos.ru/articles/56/</td>\n",
       "      <td>Как нерациональное питание влияет на риск возн...</td>\n",
       "      <td>NaN</td>\n",
       "      <td>//tt.ttarget.ru/i/t/t_58ff5d00d4b9b4.97723055.jpg</td>\n",
       "      <td>0</td>\n",
       "      <td>0</td>\n",
       "      <td>\\N</td>\n",
       "      <td>\\N</td>\n",
       "      <td>NaN</td>\n",
       "      <td>NaN</td>\n",
       "      <td>griboknogtey.ru</td>\n",
       "      <td>Общая@Новости@Медицина, здоровье@Только наши р...</td>\n",
       "    </tr>\n",
       "  </tbody>\n",
       "</table>\n",
       "</div>"
      ],
      "text/plain": [
       "   clicks  ctr  platform_id  shows  teaser_id  campaign_id  \\\n",
       "0       0  0.0           53   1200      25640          516   \n",
       "1       0  0.0           53    644      25641          516   \n",
       "2       0  0.0           53    670      25642          516   \n",
       "3       0  0.0           53    582      25643          516   \n",
       "4       0  0.0           53    536      25644          516   \n",
       "\n",
       "                                    url  \\\n",
       "0  http://www.heart-sos.ru/articles/56/   \n",
       "1  http://www.heart-sos.ru/articles/56/   \n",
       "2  http://www.heart-sos.ru/articles/56/   \n",
       "3  http://www.heart-sos.ru/articles/56/   \n",
       "4  http://www.heart-sos.ru/articles/56/   \n",
       "\n",
       "                                               title  \\\n",
       "0              Почему болезни сердца «помолодели»?     \n",
       "1  Как снизить риск возникновения заболеваний сер...   \n",
       "2                     Как сохранить здоровье сердца?   \n",
       "3  В чем причина возникновения риска сердечных за...   \n",
       "4  Как нерациональное питание влияет на риск возн...   \n",
       "\n",
       "                                 description  \\\n",
       "0  Неутешительные новости здравоохранения...   \n",
       "1                        Новости медицины...   \n",
       "2                    Основные факторы риска!   \n",
       "3                                        NaN   \n",
       "4                                        NaN   \n",
       "\n",
       "                                               image  is_native  is_video  \\\n",
       "0  //tt.ttarget.ru/i/t/t_58ff57359323b0.49043764.jpg          0         0   \n",
       "1  //tt.ttarget.ru/i/t/t_58ff57b583c235.74650094.jpg          0         0   \n",
       "2  //tt.ttarget.ru/i/t/t_58ff57ff7649f5.47414731.jpg          0         0   \n",
       "3  //tt.ttarget.ru/i/t/t_58ff5c28439fe3.04566075.jpg          0         0   \n",
       "4  //tt.ttarget.ru/i/t/t_58ff5d00d4b9b4.97723055.jpg          0         0   \n",
       "\n",
       "  video creative button_text keywords           server  \\\n",
       "0    \\N       \\N         NaN      NaN  griboknogtey.ru   \n",
       "1    \\N       \\N         NaN      NaN  griboknogtey.ru   \n",
       "2    \\N       \\N         NaN      NaN  griboknogtey.ru   \n",
       "3    \\N       \\N         NaN      NaN  griboknogtey.ru   \n",
       "4    \\N       \\N         NaN      NaN  griboknogtey.ru   \n",
       "\n",
       "                                                tags  \n",
       "0  Общая@Новости@Медицина, здоровье@Только наши р...  \n",
       "1  Общая@Новости@Медицина, здоровье@Только наши р...  \n",
       "2  Общая@Новости@Медицина, здоровье@Только наши р...  \n",
       "3  Общая@Новости@Медицина, здоровье@Только наши р...  \n",
       "4  Общая@Новости@Медицина, здоровье@Только наши р...  "
      ]
     },
     "execution_count": 90,
     "metadata": {},
     "output_type": "execute_result"
    }
   ],
   "source": [
    "ctr.head()"
   ]
  },
  {
   "cell_type": "code",
   "execution_count": 92,
   "metadata": {},
   "outputs": [],
   "source": [
    "ctr.to_json(\"ctr_preclean.json\")"
   ]
  },
  {
   "cell_type": "markdown",
   "metadata": {},
   "source": [
    "Сохраним подозрительных юзеров для дальнейшей обработки "
   ]
  },
  {
   "cell_type": "code",
   "execution_count": 95,
   "metadata": {},
   "outputs": [],
   "source": [
    "import json\n",
    "\n",
    "with open(\"suspicious_uids.json\", \"w\") as outfile:\n",
    "    outfile.write(json.dumps(list(suspicious_uids)))"
   ]
  },
  {
   "cell_type": "markdown",
   "metadata": {},
   "source": [
    "Разнятся ли распределения ctr в пределах одной кампании?"
   ]
  },
  {
   "cell_type": "code",
   "execution_count": 105,
   "metadata": {},
   "outputs": [
    {
     "name": "stdout",
     "output_type": "stream",
     "text": [
      "516 teaser-host pairs 383\n"
     ]
    },
    {
     "data": {
      "image/png": "[encoded data removed]",
      "text/plain": [
       "<matplotlib.figure.Figure at 0x7f9898750ba8>"
      ]
     },
     "metadata": {},
     "output_type": "display_data"
    },
    {
     "name": "stdout",
     "output_type": "stream",
     "text": [
      "518 teaser-host pairs 442\n"
     ]
    },
    {
     "data": {
      "image/png": "[encoded data removed]",
      "text/plain": [
       "<matplotlib.figure.Figure at 0x7f99193aa2b0>"
      ]
     },
     "metadata": {},
     "output_type": "display_data"
    },
    {
     "name": "stdout",
     "output_type": "stream",
     "text": [
      "519 teaser-host pairs 98\n"
     ]
    },
    {
     "data": {
      "image/png": "[encoded data removed]",
      "text/plain": [
       "<matplotlib.figure.Figure at 0x7f98a4111b70>"
      ]
     },
     "metadata": {},
     "output_type": "display_data"
    },
    {
     "name": "stdout",
     "output_type": "stream",
     "text": [
      "520 teaser-host pairs 158\n"
     ]
    },
    {
     "data": {
      "image/png": "[encoded data removed]",
      "text/plain": [
       "<matplotlib.figure.Figure at 0x7f98ca6b6e10>"
      ]
     },
     "metadata": {},
     "output_type": "display_data"
    },
    {
     "name": "stdout",
     "output_type": "stream",
     "text": [
      "521 teaser-host pairs 262\n"
     ]
    },
    {
     "data": {
      "image/png": "[encoded data removed]",
      "text/plain": [
       "<matplotlib.figure.Figure at 0x7f98649397f0>"
      ]
     },
     "metadata": {},
     "output_type": "display_data"
    },
    {
     "name": "stdout",
     "output_type": "stream",
     "text": [
      "526 teaser-host pairs 407\n"
     ]
    },
    {
     "data": {
      "image/png": "[encoded data removed]",
      "text/plain": [
       "<matplotlib.figure.Figure at 0x7f98fe0d2c88>"
      ]
     },
     "metadata": {},
     "output_type": "display_data"
    },
    {
     "name": "stdout",
     "output_type": "stream",
     "text": [
      "541 teaser-host pairs 742\n"
     ]
    },
    {
     "data": {
      "image/png": "[encoded data removed]",
      "text/plain": [
       "<matplotlib.figure.Figure at 0x7f9880ea02e8>"
      ]
     },
     "metadata": {},
     "output_type": "display_data"
    },
    {
     "name": "stdout",
     "output_type": "stream",
     "text": [
      "542 teaser-host pairs 768\n"
     ]
    },
    {
     "data": {
      "image/png": "[encoded data removed]",
      "text/plain": [
       "<matplotlib.figure.Figure at 0x7f98ef005d68>"
      ]
     },
     "metadata": {},
     "output_type": "display_data"
    },
    {
     "name": "stdout",
     "output_type": "stream",
     "text": [
      "552 teaser-host pairs 971\n"
     ]
    },
    {
     "data": {
      "image/png": "[encoded data removed]",
      "text/plain": [
       "<matplotlib.figure.Figure at 0x7f9955f464e0>"
      ]
     },
     "metadata": {},
     "output_type": "display_data"
    },
    {
     "name": "stdout",
     "output_type": "stream",
     "text": [
      "553 teaser-host pairs 200\n"
     ]
    },
    {
     "data": {
      "image/png": "[encoded data removed]",
      "text/plain": [
       "<matplotlib.figure.Figure at 0x7f98a7075240>"
      ]
     },
     "metadata": {},
     "output_type": "display_data"
    },
    {
     "name": "stdout",
     "output_type": "stream",
     "text": [
      "554 teaser-host pairs 717\n"
     ]
    },
    {
     "data": {
      "image/png": "[encoded data removed]",
      "text/plain": [
       "<matplotlib.figure.Figure at 0x7f9829899898>"
      ]
     },
     "metadata": {},
     "output_type": "display_data"
    },
    {
     "name": "stdout",
     "output_type": "stream",
     "text": [
      "558 teaser-host pairs 598\n"
     ]
    },
    {
     "data": {
      "image/png": "[encoded data removed]",
      "text/plain": [
       "<matplotlib.figure.Figure at 0x7f98309c4390>"
      ]
     },
     "metadata": {},
     "output_type": "display_data"
    },
    {
     "name": "stdout",
     "output_type": "stream",
     "text": [
      "560 teaser-host pairs 218\n"
     ]
    },
    {
     "data": {
      "image/png": "[encoded data removed]",
      "text/plain": [
       "<matplotlib.figure.Figure at 0x7f98309c40b8>"
      ]
     },
     "metadata": {},
     "output_type": "display_data"
    },
    {
     "name": "stdout",
     "output_type": "stream",
     "text": [
      "561 teaser-host pairs 227\n"
     ]
    },
    {
     "data": {
      "image/png": "[encoded data removed]",
      "text/plain": [
       "<matplotlib.figure.Figure at 0x7f9898f79198>"
      ]
     },
     "metadata": {},
     "output_type": "display_data"
    },
    {
     "name": "stdout",
     "output_type": "stream",
     "text": [
      "562 teaser-host pairs 213\n"
     ]
    },
    {
     "data": {
      "image/png": "[encoded data removed]",
      "text/plain": [
       "<matplotlib.figure.Figure at 0x7f9880e7d6d8>"
      ]
     },
     "metadata": {},
     "output_type": "display_data"
    },
    {
     "name": "stdout",
     "output_type": "stream",
     "text": [
      "564 teaser-host pairs 935\n"
     ]
    },
    {
     "data": {
      "image/png": "[encoded data removed]",
      "text/plain": [
       "<matplotlib.figure.Figure at 0x7f98b9c58c50>"
      ]
     },
     "metadata": {},
     "output_type": "display_data"
    },
    {
     "name": "stdout",
     "output_type": "stream",
     "text": [
      "565 teaser-host pairs 1611\n"
     ]
    },
    {
     "data": {
      "image/png": "[encoded data removed]",
      "text/plain": [
       "<matplotlib.figure.Figure at 0x7f9813a47908>"
      ]
     },
     "metadata": {},
     "output_type": "display_data"
    },
    {
     "name": "stdout",
     "output_type": "stream",
     "text": [
      "567 teaser-host pairs 432\n"
     ]
    },
    {
     "data": {
      "image/png": "[encoded data removed]",
      "text/plain": [
       "<matplotlib.figure.Figure at 0x7f9934d1a668>"
      ]
     },
     "metadata": {},
     "output_type": "display_data"
    },
    {
     "name": "stdout",
     "output_type": "stream",
     "text": [
      "568 teaser-host pairs 343\n"
     ]
    },
    {
     "data": {
      "image/png": "[encoded data removed]",
      "text/plain": [
       "<matplotlib.figure.Figure at 0x7f98990f6f98>"
      ]
     },
     "metadata": {},
     "output_type": "display_data"
    },
    {
     "name": "stdout",
     "output_type": "stream",
     "text": [
      "569 teaser-host pairs 561\n"
     ]
    },
    {
     "data": {
      "image/png": "[encoded data removed]",
      "text/plain": [
       "<matplotlib.figure.Figure at 0x7f992497aa90>"
      ]
     },
     "metadata": {},
     "output_type": "display_data"
    },
    {
     "name": "stdout",
     "output_type": "stream",
     "text": [
      "570 teaser-host pairs 567\n"
     ]
    },
    {
     "data": {
      "image/png": "[encoded data removed]",
      "text/plain": [
       "<matplotlib.figure.Figure at 0x7f9924920b38>"
      ]
     },
     "metadata": {},
     "output_type": "display_data"
    }
   ],
   "source": [
    "for c_id, group in ctr.groupby(\"campaign_id\"):\n",
    "    if len(group) > 10:\n",
    "        print(c_id, \"teaser-host pairs\", len(group))\n",
    "        sns.distplot(np.log(group[\"ctr\"] + 0.0001), kde=False, bins=25)\n",
    "        plt.show()"
   ]
  },
  {
   "cell_type": "markdown",
   "metadata": {},
   "source": [
    "Да, зачастую распределения ощутимо различаются, значит, имеет смысл пробовать что-то предсказывать."
   ]
  }
 ],
 "metadata": {
  "kernelspec": {
   "display_name": "Python 3",
   "language": "python",
   "name": "python3"
  },
  "language_info": {
   "codemirror_mode": {
    "name": "ipython",
    "version": 3
   },
   "file_extension": ".py",
   "mimetype": "text/x-python",
   "name": "python",
   "nbconvert_exporter": "python",
   "pygments_lexer": "ipython3",
   "version": "3.5.2"
  }
 },
 "nbformat": 4,
 "nbformat_minor": 2
}
